{
 "cells": [
  {
   "cell_type": "markdown",
   "id": "94ca7e38",
   "metadata": {},
   "source": [
    "# Automatic File Sorter in File Explorer"
   ]
  },
  {
   "cell_type": "code",
   "execution_count": 18,
   "id": "ab9f0d6e",
   "metadata": {},
   "outputs": [],
   "source": [
    "import os, shutil"
   ]
  },
  {
   "cell_type": "code",
   "execution_count": 20,
   "id": "271fca6e",
   "metadata": {},
   "outputs": [],
   "source": [
    "path = r\"C:/Users/seyeo/Downloads/\""
   ]
  },
  {
   "cell_type": "code",
   "execution_count": 21,
   "id": "ee9b2777",
   "metadata": {},
   "outputs": [],
   "source": [
    "file_name = os.listdir(path)"
   ]
  },
  {
   "cell_type": "code",
   "execution_count": 31,
   "id": "90a2d2e5",
   "metadata": {},
   "outputs": [],
   "source": [
    "folder_names = ['zip files', 'image files', 'text files', 'executable files', 'initialize files']\n",
    "\n",
    "for loop in range(0,5):\n",
    "    if not os.path.exists(path + folder_names[loop]):\n",
    "        \n",
    "        os.makedirs(path + folder_names[loop])\n",
    "\n",
    "for file in file_name:\n",
    "    if \".zip\" in file and not os.path.exists(path + \"zip files/\" + file):\n",
    "        shutil.move(path + file, path + \"zip files/\" + file)\n",
    "    elif \".pdf\" in file and not os.path.exists(path + \"image files/\" + file):\n",
    "        shutil.move(path + file, path + \"image files/\" + file)\n",
    "    elif \".txt\" in file and not os.path.exists(path + \"text files/\" + file):\n",
    "        shutil.move(path + file, path + \"text files/\" + file)\n",
    "    elif \".exe\" in file and not os.path.exists(path + \"executable files/\" + file):\n",
    "        shutil.move(path + file, path + \"executable files/\" + file)\n",
    "    elif \".ini\" in file and not os.path.exists(path + \"initialize files/\" + file):\n",
    "        shutil.move(path + file, path + \"initialize files/\" + file)"
   ]
  }
 ],
 "metadata": {
  "kernelspec": {
   "display_name": "Python 3 (ipykernel)",
   "language": "python",
   "name": "python3"
  },
  "language_info": {
   "codemirror_mode": {
    "name": "ipython",
    "version": 3
   },
   "file_extension": ".py",
   "mimetype": "text/x-python",
   "name": "python",
   "nbconvert_exporter": "python",
   "pygments_lexer": "ipython3",
   "version": "3.11.5"
  }
 },
 "nbformat": 4,
 "nbformat_minor": 5
}
